{
 "cells": [
  {
   "cell_type": "markdown",
   "metadata": {},
   "source": [
    " # Lab 6\n",
    " \n",
    " ## William Willmon\n",
    " \n",
    " ### Newman Exercise 5.12 - Stefan-Boltzmann constant \\\n",
    " \n",
    " The Planck Theory of thermal radiation in the interval of $\\omega$ to $\\omega + d\\omega$ there exists a black body which radiates electromagnetically.The radiation is thermal energy per second which can be measured as $I(\\omega)d\\omega$. In this case\n",
    "$$\n",
    "I(\\omega) = \\frac{\\hbar}{4\\pi^2c^2}\\frac{\\omega^3}{e^{\\hbar\\omega / k_BT}-1}\n",
    "$$ \n",
    "\n",
    "where\n",
    "\n",
    "$\\hbar$ - plancks constant\n",
    "\n",
    "$c$ - speed of light\n",
    "\n",
    "$k_B$ - Boltzmann's constant"
   ]
  },
  {
   "cell_type": "code",
   "execution_count": 1,
   "metadata": {
    "collapsed": false,
    "scrolled": true
   },
   "outputs": [
    {
     "data": {
      "text/html": [
       "<style>\n",
       "div.warn {\n",
       "    background-color: black;\n",
       "    border-color: #dFb5b4;\n",
       "    border-left: 5px solid #dfb5b4;\n",
       "    padding: 0.5em\n",
       "    color: white;\n",
       "    }\n",
       " </style>\n",
       "\n",
       " <style>\n",
       " div.answer {\n",
       "     background-color: lightblue;\n",
       "     border-color: #dFb5b4;\n",
       "     border-left: 5px solid #dfb5b4;\n",
       "     padding: 0.5em\n",
       "     }\n",
       "  </style>\n"
      ],
      "text/plain": [
       "<IPython.core.display.HTML object>"
      ]
     },
     "execution_count": 1,
     "metadata": {},
     "output_type": "execute_result"
    }
   ],
   "source": [
    "from IPython.core.display import HTML\n",
    "def css_styling():\n",
    "    styles = open(\"style.css\", \"r\").read()\n",
    "    return HTML(styles)\n",
    "css_styling()"
   ]
  },
  {
   "cell_type": "markdown",
   "metadata": {},
   "source": [
    "Through a change of variables, where $x = \\hbar\\omega / k_BT$, it can be shown that the energy radiated by a black body per unit area over all frequencies is the integral \n",
    "$$\n",
    "W = \\frac{k_B^4T^4}{4\\pi^2c^2\\hbar^3}\\int_{0}^{\\infty} \\frac{x^3}{e^x-1}dx\n",
    "$$\n",
    "\n",
    "and the program below evaluates the integral at a temperature of 300K."
   ]
  },
  {
   "cell_type": "code",
   "execution_count": 2,
   "metadata": {
    "collapsed": false
   },
   "outputs": [
    {
     "name": "stdout",
     "output_type": "stream",
     "text": [
      "457.7665441072754\n",
      "2.6284714908361187e-09\n"
     ]
    }
   ],
   "source": [
    "from scipy import integrate\n",
    "import numpy as np\n",
    "import math\n",
    "\n",
    "k_b = 1.38e-23     # m^2kg/s^2K\n",
    "c = 3e8            # m/s\n",
    "hbar = 1.0546e-34  # m^2kg/s\n",
    "T = 300            # K\n",
    "\n",
    "def f(x):\n",
    "    '''calculates a value at a given x for a certain function\n",
    "    \n",
    "    INPUTS:\n",
    "    x - value to be evaluated\n",
    "    \n",
    "    RETURNS:\n",
    "    f - a value for x of x**3*math.exp(-x)/(1-math.exp(-x))\n",
    "    '''\n",
    "    return x**3*math.exp(-x)/(1-math.exp(-x))\n",
    "\n",
    "a = 0\n",
    "b = np.inf\n",
    "\n",
    "I, error = integrate.quad(f ,a ,b)\n",
    "W = k_b**4*T**4/(4*math.pi**2*c**2*hbar**3)*I\n",
    "\n",
    "print(W)\n",
    "print(error)"
   ]
  },
  {
   "cell_type": "markdown",
   "metadata": {},
   "source": [
    "<div class=answer>\n",
    "The method used to calculate the integral was the Gaussian Quadrature. This method had an error of 2.62e-8 which is very accurate. The Gaussian Quadrature is a good fit to this curve because there is no noise to this function allowing a smooth fit and integral.\n",
    "<div/>"
   ]
  },
  {
   "cell_type": "markdown",
   "metadata": {},
   "source": [
    "It is shown that the total energy $W$ of a black body per area per time follows Stefan's law where $W = \\sigma T^4$ where we can find a constant for $\\sigma$ is known as the Stefan-Boltzmann constant."
   ]
  },
  {
   "cell_type": "code",
   "execution_count": 3,
   "metadata": {
    "collapsed": false
   },
   "outputs": [
    {
     "data": {
      "text/plain": [
       "5.651438816139203e-08"
      ]
     },
     "execution_count": 3,
     "metadata": {},
     "output_type": "execute_result"
    }
   ],
   "source": [
    "sigma = W/T**4\n",
    "sigma"
   ]
  },
  {
   "cell_type": "markdown",
   "metadata": {},
   "source": [
    "<div class=answer>\n",
    "The actual value is 5.67e-8. This means our value is accurate to 2 significant figures, with an error of 0.02e-8. \n",
    "<div/>"
   ]
  },
  {
   "cell_type": "markdown",
   "metadata": {},
   "source": [
    "### Newman Exercise 5.19 - Diffraction Gratings"
   ]
  },
  {
   "cell_type": "markdown",
   "metadata": {},
   "source": [
    "The spacing between the splits, for a transmission function of $q(u) = sin^2\\alpha u$ , in terms of $\\alpha$ is $\\pi/\\alpha$.\n",
    "\n",
    "The integral to be evaluated is given by,\n",
    "$$\n",
    "I(x) = \\mid\\int_{-\\omega/2}^{\\omega/2}\\sqrt{q(u)} e^{i2\\pi xu/\\lambda f}du \\mid^2\n",
    "$$\n",
    "\n",
    "where \n",
    "\n",
    "$\\lambda$ - wavelength of the light\n",
    "\n",
    "$\\omega$ - width of the diffraction grating\n",
    "\n",
    "$f$ - focal length\n",
    "\n",
    "$x$ - distance from center of screen\n",
    "\n",
    "With the integral and constants above, the code below creates an intensity plot of the lights diffraction pattern on the screen."
   ]
  },
  {
   "cell_type": "code",
   "execution_count": 4,
   "metadata": {
    "collapsed": false
   },
   "outputs": [
    {
     "data": {
      "text/plain": [
       "<matplotlib.text.Text at 0x7c807f0>"
      ]
     },
     "execution_count": 4,
     "metadata": {},
     "output_type": "execute_result"
    },
    {
     "data": {
      "image/png": "[encoded data removed]",
      "text/plain": [
       "<matplotlib.figure.Figure at 0x79bb710>"
      ]
     },
     "metadata": {},
     "output_type": "display_data"
    }
   ],
   "source": [
    "import cmath\n",
    "import integrate\n",
    "from matplotlib.pylab import plt\n",
    "% matplotlib inline\n",
    "\n",
    "w = 2e-4\n",
    "\n",
    "def q(u):\n",
    "    '''calculates a intesity transmissiom value at a given u\n",
    "    \n",
    "    INPUTS:\n",
    "    u - distance from the central axis to be evaluated\n",
    "    \n",
    "    RETURNS:\n",
    "    q(u) - the intensity transmission at the distance u given by\n",
    "           math.sin(alpha*u)**2\n",
    "    '''\n",
    "    d = 2e-5\n",
    "    alpha = math.pi/d\n",
    "    return math.sin(alpha*u)**2\n",
    "\n",
    "def integrand(func,u,x):\n",
    "    '''the integrand to be evaluated for the intensity of light deen on the screen\n",
    "    \n",
    "    INPUTS:\n",
    "    func - intensity =transmission function \n",
    "    u - distance from the central axis to be evaluated\n",
    "    x - point on the screen to be evaluated\n",
    "    \n",
    "    RETURNS:\n",
    "    integrand - the integrand to be evaluated\n",
    "    '''\n",
    "    f = 1\n",
    "    lam = 5e-7\n",
    "    o = func(u)\n",
    "    return math.sqrt(o)*cmath.exp(1j*2*math.pi*x*u/(lam*f))\n",
    "\n",
    "x_value = np.linspace(-0.05,0.05,1000)\n",
    "I_value = []\n",
    "for i in x_value:\n",
    "    N = 100\n",
    "    a = -w/2\n",
    "    b = w/2\n",
    "    h = ((b-a)/N)\n",
    "\n",
    "    s =(integrand(q,a,i)/3) + (integrand(q,b,i)/3)\n",
    "    for k in range(1,100):\n",
    "        if(k % 2 == 1):\n",
    "            s += 4*h/3*integrand(q,a+(k)*h,i)\n",
    "        else:\n",
    "            s += 2*h/3*integrand(q,a+(k)*h,i)\n",
    "    I_value.append(abs(s)**2)\n",
    "    \n",
    "plt.plot(x_value,I_value)\n",
    "plt.xlim(-0.05,0.05)\n",
    "plt.xlabel(\"x-value(m)\")\n",
    "plt.ylabel(\"Intensity(W/m^2)\")\n",
    "plt.title(\"Intensity vs Distance from Central Point\")"
   ]
  },
  {
   "cell_type": "markdown",
   "metadata": {
    "collapsed": false
   },
   "source": [
    "<div class=answer>\n",
    "The graph above shows the intensity of the light hitting the screen at a distance, x, away from the center of the screen. The intensity plot is created by evaluating an integral that contains a transmission function $q(u) = sin^2(\\alpha u)$ which describes the diffraction grating. When light hits a diffraction grating causing the light to go through slits and bend. The light then hits a lens that bends toward a points on the screen. All of the light hitting the diffraction grating has the same wavelength but the grating causes a phase shift to occur. This phase shit causes the light to either interfere constructively or destructively. The constructive interfernce is what creates the high points on the intensity plot but the destructive interference causes the troughs in the graph above. \n",
    "<div/> "
   ]
  },
  {
   "cell_type": "code",
   "execution_count": 5,
   "metadata": {
    "collapsed": false
   },
   "outputs": [
    {
     "data": {
      "text/plain": [
       "<matplotlib.text.Text at 0x7cb5e80>"
      ]
     },
     "execution_count": 5,
     "metadata": {},
     "output_type": "execute_result"
    },
    {
     "data": {
      "image/png": "[encoded data removed]",
      "text/plain": [
       "<matplotlib.figure.Figure at 0x7cf9a20>"
      ]
     },
     "metadata": {},
     "output_type": "display_data"
    }
   ],
   "source": [
    "def q_new(u):\n",
    "    '''calculates a intesity emissiom value at a given u\n",
    "    \n",
    "    INPUTS:\n",
    "    u - distance from the central axis to be evaluated\n",
    "    \n",
    "    RETURNS:\n",
    "    q_new(u) - the intensity emission at the distance u given by\n",
    "           math.sin(alpha*u)**2*math.sin(beta*u)**2\n",
    "    '''\n",
    "    d = 2e-5\n",
    "    alpha = math.pi/(d)\n",
    "    beta = alpha/2\n",
    "    return math.sin(alpha*u)**2*math.sin(beta*u)**2\n",
    "\n",
    "x2_value = np.linspace(-0.05,0.05,1000)\n",
    "I2_value = []\n",
    "\n",
    "for i in x2_value:\n",
    "    N = 100\n",
    "    a = -w/2\n",
    "    b = w/2\n",
    "    h = ((b-a)/N)\n",
    "\n",
    "    s2 =(integrand(q_new,a,i)/3) + (integrand(q_new,b,i)/3)\n",
    "    for k in range(1,100):\n",
    "        if(k % 2 == 1):\n",
    "            s2 += 4*h/3*integrand(q_new,a+(k)*h,i)\n",
    "        else:\n",
    "            s2 += 2*h/3*integrand(q_new,a+(k)*h,i)\n",
    "    I2_value.append(abs(s2)**2)\n",
    "    \n",
    "plt.plot(x2_value,I2_value)\n",
    "plt.xlim(-0.05,0.05)\n",
    "plt.xlabel(\"x-value(m)\")\n",
    "plt.ylabel(\"Intensity(W/m^2)\")\n"
   ]
  },
  {
   "cell_type": "markdown",
   "metadata": {
    "collapsed": true
   },
   "source": [
    "<div class=answer>\n",
    "The graph above is the same intensity plot as above. The plot now is just made with a different diffraction grating with a transmition function $q(u) = sin^2(\\alpha u)*sin^2(\\beta u)$ where $\\beta = \\alpha /2 $ . The change in the diffraction grating causes there to be more superpositions which is constructive interference. Yet it causes the magnitudes of the superpositions to be less than the previous graph.\n",
    "<div/>"
   ]
  }
 ],
 "metadata": {
  "kernelspec": {
   "display_name": "Python 3",
   "language": "python",
   "name": "python3"
  },
  "language_info": {
   "codemirror_mode": {
    "name": "ipython",
    "version": 3
   },
   "file_extension": ".py",
   "mimetype": "text/x-python",
   "name": "python",
   "nbconvert_exporter": "python",
   "pygments_lexer": "ipython3",
   "version": "3.4.4"
  }
 },
 "nbformat": 4,
 "nbformat_minor": 0
}
