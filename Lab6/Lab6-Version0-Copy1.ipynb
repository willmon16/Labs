{
 "cells": [
  {
   "cell_type": "markdown",
   "metadata": {},
   "source": [
    " # Lab 6\n",
    " \n",
    " ## William Willmon\n",
    " \n",
    " ### Newman Exercise 5.12 - Stefan-Boltzmann constant "
   ]
  },
  {
   "cell_type": "code",
   "execution_count": 1,
   "metadata": {
    "collapsed": false,
    "scrolled": true
   },
   "outputs": [
    {
     "data": {
      "text/html": [
       "<style>\n",
       "div.warn {\n",
       "    background-color: black;\n",
       "    border-color: #dFb5b4;\n",
       "    border-left: 5px solid #dfb5b4;\n",
       "    padding: 0.5em\n",
       "    color: white;\n",
       "    }\n",
       " </style>\n",
       "\n",
       " <style>\n",
       " div.answer {\n",
       "     background-color: lightblue;\n",
       "     border-color: #dFb5b4;\n",
       "     border-left: 5px solid #dfb5b4;\n",
       "     padding: 0.5em\n",
       "     }\n",
       "  </style>\n"
      ],
      "text/plain": [
       "<IPython.core.display.HTML object>"
      ]
     },
     "execution_count": 1,
     "metadata": {},
     "output_type": "execute_result"
    }
   ],
   "source": [
    "from IPython.core.display import HTML\n",
    "def css_styling():\n",
    "    styles = open(\"style.css\", \"r\").read()\n",
    "    return HTML(styles)\n",
    "css_styling()"
   ]
  },
  {
   "cell_type": "code",
   "execution_count": 7,
   "metadata": {
    "collapsed": false
   },
   "outputs": [
    {
     "name": "stdout",
     "output_type": "stream",
     "text": [
      "457.7665441072754\n",
      "2.6284714908361187e-09\n"
     ]
    }
   ],
   "source": [
    "from scipy import integrate\n",
    "import numpy as np\n",
    "import math\n",
    "\n",
    "k_b = 1.38e-23     # m^2kg/s^2K\n",
    "c = 3e8            # m/s\n",
    "hbar = 1.0546e-34  # m^2kg/s\n",
    "T = 300            # K\n",
    "\n",
    "def f(x):\n",
    "    return x**3*math.exp(-x)/(1-math.exp(-x))\n",
    "\n",
    "a = 0\n",
    "b = np.inf\n",
    "\n",
    "I, error = integrate.quad(f ,a ,b)\n",
    "W = k_b**4*T**4/(4*math.pi**2*c**2*hbar**3)*I\n",
    "\n",
    "print(W)\n",
    "print(error)"
   ]
  },
  {
   "cell_type": "markdown",
   "metadata": {},
   "source": [
    "<div class=answer>\n",
    "What method? How accurate? What you expect?\n",
    "<div/>"
   ]
  },
  {
   "cell_type": "code",
   "execution_count": 3,
   "metadata": {
    "collapsed": false
   },
   "outputs": [
    {
     "data": {
      "text/plain": [
       "5.651438816139203e-08"
      ]
     },
     "execution_count": 3,
     "metadata": {},
     "output_type": "execute_result"
    }
   ],
   "source": [
    "sigma = W/T**4\n",
    "sigma"
   ]
  },
  {
   "cell_type": "markdown",
   "metadata": {},
   "source": [
    "<div class=answer>\n",
    "How close is it to actual?\n",
    "<div/>"
   ]
  },
  {
   "cell_type": "markdown",
   "metadata": {},
   "source": [
    "### Newman Exercise 5.19 - Diffraction Gratings"
   ]
  },
  {
   "cell_type": "markdown",
   "metadata": {},
   "source": [
    "The spacing between the splits, for a transmission function of $q(u) = sin^2\\alpha u$ , in terms of $\\alpha$ is $\\pi/\\alpha$."
   ]
  },
  {
   "cell_type": "code",
   "execution_count": 4,
   "metadata": {
    "collapsed": false
   },
   "outputs": [
    {
     "data": {
      "text/plain": [
       "<matplotlib.text.Text at 0x7c9a780>"
      ]
     },
     "execution_count": 4,
     "metadata": {},
     "output_type": "execute_result"
    },
    {
     "data": {
      "image/png": "[encoded data removed]",
      "text/plain": [
       "<matplotlib.figure.Figure at 0x7481898>"
      ]
     },
     "metadata": {},
     "output_type": "display_data"
    }
   ],
   "source": [
    "import cmath\n",
    "import integrate\n",
    "from matplotlib.pylab import plt\n",
    "% matplotlib inline\n",
    "\n",
    "w = 2e-4\n",
    "\n",
    "def q(u):\n",
    "    d = 2e-5\n",
    "    alpha = math.pi/d\n",
    "    return math.sin(alpha*u)**2\n",
    "\n",
    "def integrand(func,u,x):\n",
    "    f = 1\n",
    "    lam = 5e-7\n",
    "    o = func(u)\n",
    "    return math.sqrt(o)*cmath.exp(1j*2*math.pi*x*u/(lam*f))\n",
    "\n",
    "x_value = np.linspace(-0.05,0.05,1000)\n",
    "I_value = []\n",
    "for i in x_value:\n",
    "    N = 100\n",
    "    a = -w/2\n",
    "    b = w/2\n",
    "    h = ((b-a)/N)\n",
    "\n",
    "    s =(integrand(q,a,i)/3) + (integrand(q,b,i)/3)\n",
    "    for k in range(1,100):\n",
    "        if(k % 2 == 1):\n",
    "            s += 4/3*integrand(q,a+(k)*h,i)\n",
    "        else:\n",
    "            s += 2/3*integrand(q,a+(k)*h,i)\n",
    "    I_value.append(abs(s)**2)\n",
    "    \n",
    "plt.plot(x_value,I_value)\n",
    "plt.xlim(-0.05,0.05)\n",
    "plt.xlabel(\"x-value(m)\")\n",
    "plt.ylabel(\"Intensity(W/m^2)\")"
   ]
  },
  {
   "cell_type": "markdown",
   "metadata": {
    "collapsed": false
   },
   "source": []
  },
  {
   "cell_type": "code",
   "execution_count": 6,
   "metadata": {
    "collapsed": false
   },
   "outputs": [
    {
     "data": {
      "text/plain": [
       "<matplotlib.text.Text at 0x7d900b8>"
      ]
     },
     "execution_count": 6,
     "metadata": {},
     "output_type": "execute_result"
    },
    {
     "data": {
      "image/png": "[encoded data removed]",
      "text/plain": [
       "<matplotlib.figure.Figure at 0x7c95390>"
      ]
     },
     "metadata": {},
     "output_type": "display_data"
    }
   ],
   "source": [
    "def q_new(u):\n",
    "    d = 2e-5\n",
    "    alpha = math.pi/(d)\n",
    "    beta = alpha/2\n",
    "    return math.sin(alpha*u)**2*math.sin(beta*u)**2\n",
    "\n",
    "x2_value = np.linspace(-0.05,0.05,1000)\n",
    "I2_value = []\n",
    "\n",
    "for i in x2_value:\n",
    "    N = 100\n",
    "    a = -w/2\n",
    "    b = w/2\n",
    "    h = ((b-a)/N)\n",
    "\n",
    "    s2 =(integrand(q_new,a,i)/3) + (integrand(q_new,b,i)/3)\n",
    "    for k in range(1,100):\n",
    "        if(k % 2 == 1):\n",
    "            s2 += 4/3*integrand(q_new,a+(k)*h,i)\n",
    "        else:\n",
    "            s2 += 2/3*integrand(q_new,a+(k)*h,i)\n",
    "    I2_value.append(abs(s2)**2)\n",
    "    \n",
    "plt.plot(x2_value,I2_value)\n",
    "plt.xlim(-0.05,0.05)\n",
    "plt.xlabel(\"x-value(m)\")\n",
    "plt.ylabel(\"Intensity(W/s)\")\n"
   ]
  },
  {
   "cell_type": "markdown",
   "metadata": {
    "collapsed": true
   },
   "source": []
  }
 ],
 "metadata": {
  "kernelspec": {
   "display_name": "Python 3",
   "language": "python",
   "name": "python3"
  },
  "language_info": {
   "codemirror_mode": {
    "name": "ipython",
    "version": 3
   },
   "file_extension": ".py",
   "mimetype": "text/x-python",
   "name": "python",
   "nbconvert_exporter": "python",
   "pygments_lexer": "ipython3",
   "version": "3.4.4"
  }
 },
 "nbformat": 4,
 "nbformat_minor": 0
}
